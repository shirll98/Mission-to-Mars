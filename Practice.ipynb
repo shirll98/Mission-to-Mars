{
 "cells": [
  {
   "cell_type": "code",
   "execution_count": 1,
   "id": "46eddf03-d863-4f6d-bba9-9807e76e43f8",
   "metadata": {},
   "outputs": [],
   "source": [
    "# import scraping tools \n",
    "from splinter import Browser \n",
    "from bs4 import BeautifulSoup as soup \n",
    "from webdriver_manager.chrome import ChromeDriverManager"
   ]
  },
  {
   "cell_type": "code",
   "execution_count": 2,
   "id": "7fe98c28-b8b5-475f-a220-e42a8abddaa7",
   "metadata": {},
   "outputs": [
    {
     "name": "stderr",
     "output_type": "stream",
     "text": [
      "[WDM] - \n",
      "\n",
      "[WDM] - ====== WebDriver manager ======\n",
      "[WDM] - Current google-chrome version is 96.0.4664\n",
      "[WDM] - Get LATEST driver version for 96.0.4664\n",
      "[WDM] - There is no [win32] chromedriver for browser 96.0.4664 in cache\n",
      "[WDM] - Get LATEST driver version for 96.0.4664\n",
      "[WDM] - Trying to download new driver from https://chromedriver.storage.googleapis.com/96.0.4664.45/chromedriver_win32.zip\n",
      "[WDM] - Driver has been saved in cache [C:\\Users\\shliu\\.wdm\\drivers\\chromedriver\\win32\\96.0.4664.45]\n"
     ]
    }
   ],
   "source": [
    "# set up the executable path and initialize a browser \n",
    "\n",
    "# set up splinter \n",
    "executable_path = {'executable_path': ChromeDriverManager().install()}\n",
    "\n",
    "# initialize a browser\n",
    "browser = Browser('chrome', **executable_path, headless = False)\n",
    "\n",
    "# create an instance of splinter browser \n",
    "# executing this will execute a browser for us to control "
   ]
  },
  {
   "cell_type": "code",
   "execution_count": 6,
   "id": "ef473712-8183-4a6d-8da3-56e752c0f29f",
   "metadata": {},
   "outputs": [],
   "source": [
    "# Visit the Quotes to Scrape site\n",
    "url = 'http://quotes.toscrape.com/'\n",
    "browser.visit(url)\n",
    "\n",
    "# tells splinter which site we want to visit by asigning the link to the URL \n"
   ]
  },
  {
   "cell_type": "code",
   "execution_count": 7,
   "id": "643950e5-34b1-413b-b22a-77373b540737",
   "metadata": {},
   "outputs": [],
   "source": [
    "# use beautifulSoup to parse the html \n",
    "# Parse the HTML\n",
    "html = browser.html\n",
    "html_soup = soup(html, 'html.parser')\n",
    "\n",
    "# parse all the HTML on the page, Bs has taken a look kat the different components \n",
    "# and can now access them \n",
    "# BS parses the HTML text and stores it as an object \n",
    "# html.parser --> parse the information "
   ]
  },
  {
   "cell_type": "code",
   "execution_count": 8,
   "id": "0ff2d988-3eaf-46df-926f-5795344092d9",
   "metadata": {},
   "outputs": [
    {
     "data": {
      "text/plain": [
       "'Top Ten tags'"
      ]
     },
     "execution_count": 8,
     "metadata": {},
     "output_type": "execute_result"
    }
   ],
   "source": [
    "# Scrape the Title\n",
    "title = html_soup.find('h2').text\n",
    "title\n",
    "# .text will extract only the text within the html tags "
   ]
  },
  {
   "cell_type": "code",
   "execution_count": 9,
   "id": "f575fe4d-dc65-4953-9365-63e1f144e715",
   "metadata": {},
   "outputs": [
    {
     "name": "stdout",
     "output_type": "stream",
     "text": [
      "love\n",
      "inspirational\n",
      "life\n",
      "humor\n",
      "books\n",
      "reading\n",
      "friendship\n",
      "friends\n",
      "truth\n",
      "simile\n"
     ]
    }
   ],
   "source": [
    "# scrape all of the tags \n",
    "# bootstrap is an html and css framework that simplifies adding functional components that lok nice by default \n",
    "# col-md-4 means that this page uses grid layout \n",
    "\n",
    "# Scrape the top ten tags\n",
    "tag_box = html_soup.find('div', class_='tags-box')\n",
    "# tag_box\n",
    "tags = tag_box.find_all('a', class_='tag')\n",
    "\n",
    "for tag in tags:\n",
    "    word = tag.text\n",
    "    print(word)\n",
    "# the for loop will loop cycles through each tag and strip the html code out of it \n",
    "# only printing the text of each tag \n"
   ]
  },
  {
   "cell_type": "code",
   "execution_count": 3,
   "id": "8a8ee4b4",
   "metadata": {},
   "outputs": [],
   "source": [
    "# create a new broswer instance to do more scraping \n",
    "url = 'http://quotes.toscrape.com/'\n",
    "browser.visit(url)"
   ]
  },
  {
   "cell_type": "code",
   "execution_count": 10,
   "id": "7c81faf5-7922-4237-974c-a2406e86f243",
   "metadata": {},
   "outputs": [
    {
     "name": "stdout",
     "output_type": "stream",
     "text": [
      "page: 1 ----------\n",
      "“The world as we have created it is a process of our thinking. It cannot be changed without changing our thinking.”\n",
      "page: 1 ----------\n",
      "“It is our choices, Harry, that show what we truly are, far more than our abilities.”\n",
      "page: 1 ----------\n",
      "“There are only two ways to live your life. One is as though nothing is a miracle. The other is as though everything is a miracle.”\n",
      "page: 1 ----------\n",
      "“The person, be it gentleman or lady, who has not pleasure in a good novel, must be intolerably stupid.”\n",
      "page: 1 ----------\n",
      "“Imperfection is beauty, madness is genius and it's better to be absolutely ridiculous than absolutely boring.”\n",
      "page: 1 ----------\n",
      "“Try not to become a man of success. Rather become a man of value.”\n",
      "page: 1 ----------\n",
      "“It is better to be hated for what you are than to be loved for what you are not.”\n",
      "page: 1 ----------\n",
      "“I have not failed. I've just found 10,000 ways that won't work.”\n",
      "page: 1 ----------\n",
      "“A woman is like a tea bag; you never know how strong it is until it's in hot water.”\n",
      "page: 1 ----------\n",
      "“A day without sunshine is like, you know, night.”\n",
      "page: 2 ----------\n",
      "“This life is what you make it. No matter what, you're going to mess up sometimes, it's a universal truth. But the good part is you get to decide how you're going to mess it up. Girls will be your friends - they'll act like it anyway. But just remember, some come, some go. The ones that stay with you through everything - they're your true best friends. Don't let go of them. Also remember, sisters make the best friends in the world. As for lovers, well, they'll come and go too. And baby, I hate to say it, most of them - actually pretty much all of them are going to break your heart, but you can't give up because if you give up, you'll never find your soulmate. You'll never find that half who makes you whole and that goes for everything. Just because you fail once, doesn't mean you're gonna fail at everything. Keep trying, hold on, and always, always, always believe in yourself, because if you don't, then who will, sweetie? So keep your head high, keep your chin up, and most importantly, keep smiling, because life's a beautiful thing and there's so much to smile about.”\n",
      "page: 2 ----------\n",
      "“It takes a great deal of bravery to stand up to our enemies, but just as much to stand up to our friends.”\n",
      "page: 2 ----------\n",
      "“If you can't explain it to a six year old, you don't understand it yourself.”\n",
      "page: 2 ----------\n",
      "“You may not be her first, her last, or her only. She loved before she may love again. But if she loves you now, what else matters? She's not perfect—you aren't either, and the two of you may never be perfect together but if she can make you laugh, cause you to think twice, and admit to being human and making mistakes, hold onto her and give her the most you can. She may not be thinking about you every second of the day, but she will give you a part of her that she knows you can break—her heart. So don't hurt her, don't change her, don't analyze and don't expect more than she can give. Smile when she makes you happy, let her know when she makes you mad, and miss her when she's not there.”\n",
      "page: 2 ----------\n",
      "“I like nonsense, it wakes up the brain cells. Fantasy is a necessary ingredient in living.”\n",
      "page: 2 ----------\n",
      "“I may not have gone where I intended to go, but I think I have ended up where I needed to be.”\n",
      "page: 2 ----------\n",
      "“The opposite of love is not hate, it's indifference. The opposite of art is not ugliness, it's indifference. The opposite of faith is not heresy, it's indifference. And the opposite of life is not death, it's indifference.”\n",
      "page: 2 ----------\n",
      "“It is not a lack of love, but a lack of friendship that makes unhappy marriages.”\n",
      "page: 2 ----------\n",
      "“Good friends, good books, and a sleepy conscience: this is the ideal life.”\n",
      "page: 2 ----------\n",
      "“Life is what happens to us while we are making other plans.”\n",
      "page: 3 ----------\n",
      "“I love you without knowing how, or when, or from where. I love you simply, without problems or pride: I love you in this way because I do not know any other way of loving but this, in which there is no I or you, so intimate that your hand upon my chest is my hand, so intimate that when I fall asleep your eyes close.”\n",
      "page: 3 ----------\n",
      "“For every minute you are angry you lose sixty seconds of happiness.”\n",
      "page: 3 ----------\n",
      "“If you judge people, you have no time to love them.”\n",
      "page: 3 ----------\n",
      "“Anyone who thinks sitting in church can make you a Christian must also think that sitting in a garage can make you a car.”\n",
      "page: 3 ----------\n",
      "“Beauty is in the eye of the beholder and it may be necessary from time to time to give a stupid or misinformed beholder a black eye.”\n",
      "page: 3 ----------\n",
      "“Today you are You, that is truer than true. There is no one alive who is Youer than You.”\n",
      "page: 3 ----------\n",
      "“If you want your children to be intelligent, read them fairy tales. If you want them to be more intelligent, read them more fairy tales.”\n",
      "page: 3 ----------\n",
      "“It is impossible to live without failing at something, unless you live so cautiously that you might as well not have lived at all - in which case, you fail by default.”\n",
      "page: 3 ----------\n",
      "“Logic will get you from A to Z; imagination will get you everywhere.”\n",
      "page: 3 ----------\n",
      "“One good thing about music, when it hits you, you feel no pain.”\n",
      "page: 4 ----------\n",
      "“The more that you read, the more things you will know. The more that you learn, the more places you'll go.”\n",
      "page: 4 ----------\n",
      "“Of course it is happening inside your head, Harry, but why on earth should that mean that it is not real?”\n",
      "page: 4 ----------\n",
      "“The truth is, everyone is going to hurt you. You just got to find the ones worth suffering for.”\n",
      "page: 4 ----------\n",
      "“Not all of us can do great things. But we can do small things with great love.”\n",
      "page: 4 ----------\n",
      "“To the well-organized mind, death is but the next great adventure.”\n",
      "page: 4 ----------\n",
      "“All you need is love. But a little chocolate now and then doesn't hurt.”\n",
      "page: 4 ----------\n",
      "“We read to know we're not alone.”\n",
      "page: 4 ----------\n",
      "“Any fool can know. The point is to understand.”\n",
      "page: 4 ----------\n",
      "“I have always imagined that Paradise will be a kind of library.”\n",
      "page: 4 ----------\n",
      "“It is never too late to be what you might have been.”\n",
      "page: 5 ----------\n",
      "“A reader lives a thousand lives before he dies, said Jojen. The man who never reads lives only one.”\n",
      "page: 5 ----------\n",
      "“You can never get a cup of tea large enough or a book long enough to suit me.”\n",
      "page: 5 ----------\n",
      "“You believe lies so you eventually learn to trust no one but yourself.”\n",
      "page: 5 ----------\n",
      "“If you can make a woman laugh, you can make her do anything.”\n",
      "page: 5 ----------\n",
      "“Life is like riding a bicycle. To keep your balance, you must keep moving.”\n",
      "page: 5 ----------\n",
      "“The real lover is the man who can thrill you by kissing your forehead or smiling into your eyes or just staring into space.”\n",
      "page: 5 ----------\n",
      "“A wise girl kisses but doesn't love, listens but doesn't believe, and leaves before she is left.”\n",
      "page: 5 ----------\n",
      "“Only in the darkness can you see the stars.”\n",
      "page: 5 ----------\n",
      "“It matters not what someone is born, but what they grow to be.”\n",
      "page: 5 ----------\n",
      "“Love does not begin and end the way we seem to think it does. Love is a battle, love is a war; love is a growing up.”\n"
     ]
    }
   ],
   "source": [
    "# create a beautifulsoup object \n",
    "# find all the quotes on the page \n",
    "# print each quote from the page \n",
    "# click on the next button at the bottom of page \n",
    "\n",
    "for x in range(1, 6):\n",
    "   html = browser.html\n",
    "   quote_soup = soup(html, 'html.parser')\n",
    "   quotes = quote_soup.find_all('span', class_='text')\n",
    "   for quote in quotes:\n",
    "      print('page:', x, '----------')\n",
    "      print(quote.text)\n",
    "   browser.links.find_by_partial_text('Next').click()"
   ]
  },
  {
   "cell_type": "code",
   "execution_count": null,
   "id": "2f401be3-5fa0-4e66-9a87-623d337897a4",
   "metadata": {},
   "outputs": [],
   "source": []
  }
 ],
 "metadata": {
  "kernelspec": {
   "display_name": "PythonData",
   "language": "python",
   "name": "pythondata"
  },
  "language_info": {
   "codemirror_mode": {
    "name": "ipython",
    "version": 3
   },
   "file_extension": ".py",
   "mimetype": "text/x-python",
   "name": "python",
   "nbconvert_exporter": "python",
   "pygments_lexer": "ipython3",
   "version": "3.7.10"
  }
 },
 "nbformat": 4,
 "nbformat_minor": 5
}
