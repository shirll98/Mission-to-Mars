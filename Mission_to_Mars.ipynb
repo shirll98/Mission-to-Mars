{
 "cells": [
  {
   "cell_type": "code",
   "execution_count": 1,
   "id": "4bcd0a59-4f36-41f5-8714-45bb0153a238",
   "metadata": {},
   "outputs": [],
   "source": [
    "# Import Splinter and BeautifulSoup\n",
    "from splinter import Browser\n",
    "from bs4 import BeautifulSoup as soup\n",
    "from webdriver_manager.chrome import ChromeDriverManager\n",
    "import pandas as pd "
   ]
  },
  {
   "cell_type": "code",
   "execution_count": 2,
   "id": "dd083675-9539-4299-9d2f-1931cd426d83",
   "metadata": {},
   "outputs": [
    {
     "name": "stderr",
     "output_type": "stream",
     "text": [
      "[WDM] - \n",
      "\n",
      "[WDM] - ====== WebDriver manager ======\n",
      "[WDM] - Current google-chrome version is 96.0.4664\n",
      "[WDM] - Get LATEST driver version for 96.0.4664\n",
      "[WDM] - Driver [C:\\Users\\shliu\\.wdm\\drivers\\chromedriver\\win32\\96.0.4664.45\\chromedriver.exe] found in cache\n"
     ]
    }
   ],
   "source": [
    "# executable path that will initialize a browser\n",
    "executable_path = {'executable_path': ChromeDriverManager().install()}\n",
    "browser = Browser('chrome', **executable_path, headless=False)"
   ]
  },
  {
   "cell_type": "code",
   "execution_count": 3,
   "id": "3344518c-d4b0-436a-b3e4-aeb5d4ecabc5",
   "metadata": {},
   "outputs": [
    {
     "data": {
      "text/plain": [
       "True"
      ]
     },
     "execution_count": 3,
     "metadata": {},
     "output_type": "execute_result"
    }
   ],
   "source": [
    "# assing url and instruct the browser to use it \n",
    "# Visit the mars nasa news site\n",
    "url = 'https://redplanetscience.com'\n",
    "browser.visit(url)\n",
    "# Optional delay for loading the page\n",
    "browser.is_element_present_by_css('div.list_text', wait_time=1) # pinpoints the <div/> tag with the class of list_text\n",
    "\n",
    "# search for elements with a specific combination of tag and attribute \n",
    "     # ul.item_list would be found in HTML as <ul class = \"item_list\"> \n",
    "        # also telling the browser to wait a second before searching for components \n",
    "        "
   ]
  },
  {
   "cell_type": "code",
   "execution_count": 4,
   "id": "0ccb1774-62df-4802-9874-f0ca73537f59",
   "metadata": {},
   "outputs": [],
   "source": [
    "# set up HTML parser \n",
    "html = browser.html\n",
    "news_soup = soup(html, 'html.parser')\n",
    "slide_elem = news_soup.select_one('div.list_text')\n",
    "\n",
    "# assign slide_elem as a variable to look for <div/> tag \n",
    "# CSS works from right to left \n",
    "# div.list_text pinpoints the div tag with the class of list_text \n"
   ]
  },
  {
   "cell_type": "code",
   "execution_count": 6,
   "id": "b1308345",
   "metadata": {},
   "outputs": [
    {
     "data": {
      "text/plain": [
       "\"Three New Views of Mars' Moon Phobos\""
      ]
     },
     "execution_count": 6,
     "metadata": {},
     "output_type": "execute_result"
    }
   ],
   "source": [
    "slide_elem.find('div', class_='content_title').get_text()"
   ]
  },
  {
   "cell_type": "code",
   "execution_count": 7,
   "id": "b9c74634-f33e-4e2b-9bf8-e2e8ae18bc24",
   "metadata": {},
   "outputs": [
    {
     "data": {
      "text/plain": [
       "\"Three New Views of Mars' Moon Phobos\""
      ]
     },
     "execution_count": 7,
     "metadata": {},
     "output_type": "execute_result"
    }
   ],
   "source": [
    "# Use the parent element to find the first `a` tag and save it as `news_title`\n",
    "# assign the title and summary text to variables  \n",
    "news_title = slide_elem.find('div', class_='content_title').get_text()\n",
    "news_title\n",
    "# chaining get_text to find() method will return the titles of the news articles and not any of the html tags "
   ]
  },
  {
   "cell_type": "code",
   "execution_count": 8,
   "id": "2294afa1-7c0c-4410-bd03-a9d797c614b0",
   "metadata": {},
   "outputs": [
    {
     "data": {
      "text/plain": [
       "\"Taken with the infrared camera aboard NASA's Odyssey orbiter, they reveal temperature variations on the small moon as it drifts into and out of Mars’ shadow.\""
      ]
     },
     "execution_count": 8,
     "metadata": {},
     "output_type": "execute_result"
    }
   ],
   "source": [
    "# add the summar text, scrape the article summary instead of the title \n",
    "news_summary = slide_elem.find('div', class_='article_teaser_body').get_text()\n",
    "news_summary"
   ]
  },
  {
   "cell_type": "code",
   "execution_count": 9,
   "id": "8439f3d7",
   "metadata": {},
   "outputs": [],
   "source": [
    "# .find() is used when we want only the first class and attribute we've specified.\n",
    "# .find_all() is used when we want to retrieve all of the tags and attributes."
   ]
  },
  {
   "cell_type": "markdown",
   "id": "6667fdf5-62fc-4ef7-9197-c1951c0867fb",
   "metadata": {},
   "source": [
    "### Featured Images"
   ]
  },
  {
   "cell_type": "code",
   "execution_count": 11,
   "id": "2fb035c2-b0b4-425c-b163-0c0e277b4f13",
   "metadata": {},
   "outputs": [],
   "source": [
    "# Visit URL\n",
    "url = 'https://spaceimages-mars.com'\n",
    "browser.visit(url)"
   ]
  },
  {
   "cell_type": "code",
   "execution_count": null,
   "id": "b8ac0f2f-27ea-4360-8da2-bebcbe6f1ed5",
   "metadata": {},
   "outputs": [],
   "source": [
    "# Find and click the full image button\n",
    "full_image_elem = browser.find_by_tag('button')[1]\n",
    "full_image_elem.click()"
   ]
  },
  {
   "cell_type": "code",
   "execution_count": null,
   "id": "e529ea36-6d4d-4b5a-bb37-717329aabc96",
   "metadata": {},
   "outputs": [],
   "source": [
    "# Parse the resulting html with soup\n",
    "html = browser.html\n",
    "img_soup = soup(html, 'html.parser')"
   ]
  },
  {
   "cell_type": "code",
   "execution_count": null,
   "id": "e33d39df-f3e9-4ef0-ae85-7cd64ef59180",
   "metadata": {},
   "outputs": [],
   "source": [
    "# Find the relative image url\n",
    "img_url_rel = img_soup.find('img', class_='fancybox-image').get('src')\n",
    "img_url_rel"
   ]
  },
  {
   "cell_type": "code",
   "execution_count": null,
   "id": "abff30bc-cdc0-4bbf-bde5-c750994f97a0",
   "metadata": {},
   "outputs": [],
   "source": [
    "# the link in the previous cell is only a partial link, the base URL isnt included \n",
    "# Use the base URL to create an absolute URL\n",
    "img_url = f'https://spaceimages-mars.com/{img_url_rel}'\n",
    "img_url"
   ]
  },
  {
   "cell_type": "code",
   "execution_count": null,
   "id": "9300b0b2-73e1-49b4-a0f7-ba1a36871616",
   "metadata": {},
   "outputs": [],
   "source": [
    "# scrape the entire table with pandas .read_html() function \n",
    "df = pd.read_html('https://galaxyfacts-mars.com')[0] # specifying an index of 0, it will pull only the first table that it encounters\n",
    "# create df from html table \n",
    "# pd function read_html() searches for and returns a list of tables found in html \n",
    "df.columns=['description', 'Mars', 'Earth'] # assigning columns to the new df \n",
    "df.set_index('description', inplace=True) # setting the index of this dataframe as description \n",
    "df\n",
    "\n"
   ]
  },
  {
   "cell_type": "code",
   "execution_count": null,
   "id": "0021536e-c047-49c6-ade8-47862d1e611c",
   "metadata": {},
   "outputs": [],
   "source": [
    "df.to_html()\n",
    "\n",
    "# pandas as a function to convert dataframes back to html using this line of code "
   ]
  },
  {
   "cell_type": "code",
   "execution_count": null,
   "id": "098d6b00-d45c-4376-a1d5-1d708ce85a53",
   "metadata": {},
   "outputs": [],
   "source": [
    "browser.quit()\n",
    "# executes call to end of session "
   ]
  },
  {
   "cell_type": "code",
   "execution_count": null,
   "id": "fd49939c-af4c-4d1e-b59f-885745bc413e",
   "metadata": {},
   "outputs": [],
   "source": []
  }
 ],
 "metadata": {
  "kernelspec": {
   "display_name": "PythonData",
   "language": "python",
   "name": "pythondata"
  },
  "language_info": {
   "codemirror_mode": {
    "name": "ipython",
    "version": 3
   },
   "file_extension": ".py",
   "mimetype": "text/x-python",
   "name": "python",
   "nbconvert_exporter": "python",
   "pygments_lexer": "ipython3",
   "version": "3.7.10"
  }
 },
 "nbformat": 4,
 "nbformat_minor": 5
}
